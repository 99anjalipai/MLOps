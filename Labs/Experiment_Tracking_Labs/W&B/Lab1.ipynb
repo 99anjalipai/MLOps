{
 "cells": [
  {
   "cell_type": "code",
   "execution_count": null,
   "id": "f2123a32",
   "metadata": {},
   "outputs": [],
   "source": [
    "import os\n",
    "import wandb\n",
    "from tensorflow import keras\n",
    "from tensorflow.keras import layers"
   ]
  },
  {
   "cell_type": "code",
   "execution_count": null,
   "id": "5c6e6194",
   "metadata": {},
   "outputs": [],
   "source": [
    "wandb.login()"
   ]
  },
  {
   "cell_type": "code",
   "execution_count": null,
   "id": "2c79021e",
   "metadata": {},
   "outputs": [],
   "source": [
    "# Get the dataset from UCI\n",
    "!wget https://archive.ics.uci.edu/ml/machine-learning-databases/dermatology/dermatology.data -qq\n",
    "\n",
    "# modified from https://github.com/dmlc/xgboost/blob/master/demo/multiclass_classification/train.py\n",
    "# Import wandb\n",
    "import wandb\n",
    "import numpy as np\n",
    "import xgboost as xgb\n",
    "\n",
    "run = wandb.init(project=\"Lab1-visualize-models\", name=\"xgboost\")\n",
    "\n",
    "# label need to be 0 to num_class -1\n",
    "data = np.loadtxt('./dermatology.data', delimiter=',',\n",
    "        converters={33: lambda x:int(x == '?'), 34: lambda x:int(x) - 1})\n",
    "sz = data.shape\n",
    "\n",
    "train = data[:int(sz[0] * 0.7), :]\n",
    "test = data[int(sz[0] * 0.7):, :]\n",
    "\n",
    "train_X = train[:, :33]\n",
    "train_Y = train[:, 34]\n",
    "\n",
    "test_X = test[:, :33]\n",
    "test_Y = test[:, 34]\n",
    "\n",
    "xg_train = xgb.DMatrix(train_X, label=train_Y)\n",
    "xg_test = xgb.DMatrix(test_X, label=test_Y)\n",
    "# setup parameters for xgboost\n",
    "param = {}\n",
    "# use softmax multi-class classification\n",
    "param['objective'] = 'multi:softmax'\n",
    "# scale weight of positive examples\n",
    "param['eta'] = 0.1\n",
    "param['max_depth'] = 6\n",
    "param['silent'] = 1\n",
    "param['nthread'] = 4\n",
    "param['num_class'] = 6\n",
    "wandb.config.update(param)\n",
    "\n",
    "watchlist = [(xg_train, 'train'), (xg_test, 'test')]\n",
    "num_round = 5\n",
    "\n",
    "# Add the wandb xgboost callback\n",
    "bst = xgb.train(param, xg_train, num_round, watchlist, callbacks=[wandb.xgboost.WandbCallback()])\n",
    "# get prediction\n",
    "pred = bst.predict(xg_test)\n",
    "error_rate = np.sum(pred != test_Y) / test_Y.shape[0]\n",
    "print('Test error using softmax = {}'.format(error_rate))\n",
    "\n",
    "run.summary['Error Rate'] = error_rate\n",
    "\n",
    "wandb.sklearn.plot_confusion_matrix(test_Y, pred, [0., 1., 2., 3., 4., 5.])\n",
    "\n",
    "run.finish()"
   ]
  }
 ],
 "metadata": {
  "kernelspec": {
   "display_name": ".venv",
   "language": "python",
   "name": "python3"
  },
  "language_info": {
   "codemirror_mode": {
    "name": "ipython",
    "version": 3
   },
   "file_extension": ".py",
   "mimetype": "text/x-python",
   "name": "python",
   "nbconvert_exporter": "python",
   "pygments_lexer": "ipython3",
   "version": "3.10.12"
  }
 },
 "nbformat": 4,
 "nbformat_minor": 5
}
