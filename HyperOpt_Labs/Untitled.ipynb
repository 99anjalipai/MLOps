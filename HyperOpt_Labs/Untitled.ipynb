{
 "cells": [
  {
   "cell_type": "code",
   "execution_count": 2,
   "id": "3e73b7f4-438f-477f-a350-2508f7fab1c7",
   "metadata": {},
   "outputs": [
    {
     "name": "stdout",
     "output_type": "stream",
     "text": [
      "Collecting aspose-words\n",
      "  Downloading aspose_words-23.9.0-py3-none-manylinux1_x86_64.whl (83.2 MB)\n",
      "\u001b[2K     \u001b[38;2;114;156;31m━━━━━━━━━━━━━━━━━━━━━━━━━━━━━━━━━━━━━━━━\u001b[0m \u001b[32m83.2/83.2 MB\u001b[0m \u001b[31m9.4 MB/s\u001b[0m eta \u001b[36m0:00:00\u001b[0m0m eta \u001b[36m0:00:01\u001b[0m[36m0:00:01\u001b[0m\n",
      "\u001b[?25hInstalling collected packages: aspose-words\n",
      "Successfully installed aspose-words-23.9.0\n"
     ]
    }
   ],
   "source": [
    "!pip3 install aspose-words\n"
   ]
  },
  {
   "cell_type": "code",
   "execution_count": 3,
   "id": "005e290a-5fde-44d5-a404-37d3b4bebe8b",
   "metadata": {},
   "outputs": [
    {
     "data": {
      "text/plain": [
       "<aspose.words.saving.SaveOutputParameters object at 0x7fdc7430bc50>"
      ]
     },
     "execution_count": 3,
     "metadata": {},
     "output_type": "execute_result"
    }
   ],
   "source": [
    "import aspose.words as aw\n",
    "\n",
    "# Load an existing Markdown document\n",
    "doc = aw.Document(\"HyperOps_Lab.md\")\n",
    "\n",
    "# Save the document as PDF\n",
    "doc.save(f\"HyperOps_Lab.pdf\")"
   ]
  },
  {
   "cell_type": "code",
   "execution_count": null,
   "id": "afc05439-afd0-4736-b3d7-687bc10806fd",
   "metadata": {},
   "outputs": [],
   "source": []
  }
 ],
 "metadata": {
  "kernelspec": {
   "display_name": "Python 3 (ipykernel)",
   "language": "python",
   "name": "python3"
  },
  "language_info": {
   "codemirror_mode": {
    "name": "ipython",
    "version": 3
   },
   "file_extension": ".py",
   "mimetype": "text/x-python",
   "name": "python",
   "nbconvert_exporter": "python",
   "pygments_lexer": "ipython3",
   "version": "3.9.7"
  }
 },
 "nbformat": 4,
 "nbformat_minor": 5
}
